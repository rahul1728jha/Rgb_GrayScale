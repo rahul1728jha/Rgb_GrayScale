{
 "cells": [
  {
   "cell_type": "code",
   "execution_count": 39,
   "metadata": {},
   "outputs": [],
   "source": [
    "from PIL import Image\n",
    "import numpy as np\n",
    "import glob\n",
    "from IPython.display import display\n",
    "from sklearn.model_selection import train_test_split\n",
    "%matplotlib inline\n",
    "import matplotlib.pyplot as plt\n",
    "import os\n",
    "import cv2\n",
    "import shutil"
   ]
  },
  {
   "cell_type": "code",
   "execution_count": 101,
   "metadata": {},
   "outputs": [],
   "source": [
    "import keras\n",
    "from keras.models import Sequential,Model,Input\n",
    "from keras.layers import Conv2D, MaxPooling2D,UpSampling2D,Flatten,Dense,Reshape,Conv2DTranspose,BatchNormalization"
   ]
  },
  {
   "cell_type": "markdown",
   "metadata": {},
   "source": [
    "# Data Preparation.\n",
    "<h3> The main dataset is in the folder : indoorCVPR_09. </h3>\n",
    "<h3>From that we read 20 images from each category. Then we resize the image to 128 * 128 and save it in data/color_images folder. </h3> \n",
    "<h3> Its grayscale counterpart is saved in data/gray_images folder. </h3>"
   ]
  },
  {
   "cell_type": "code",
   "execution_count": 81,
   "metadata": {},
   "outputs": [],
   "source": [
    "base_dir = 'indoorCVPR_09/'\n",
    "converted_size = 128"
   ]
  },
  {
   "cell_type": "code",
   "execution_count": 50,
   "metadata": {},
   "outputs": [],
   "source": [
    "def save_images(baseDir,converted_size):\n",
    "    count =1 \n",
    "    try:\n",
    "        for subdir, dirs, files in os.walk(baseDir):\n",
    "            file_from_each_seg = 0\n",
    "            \n",
    "            for file in files:\n",
    "                filename = os.path.join(subdir, file)\n",
    "\n",
    "                if file_from_each_seg == 50:\n",
    "                    break\n",
    "                image = cv2.imread(filename)\n",
    "\n",
    "                if image is not None:\n",
    "                    gray_img = cv2.cvtColor(image, cv2.COLOR_BGR2GRAY)\n",
    "\n",
    "                    image = cv2.resize(image, (converted_size, converted_size))\n",
    "                    gray_img = cv2.resize(gray_img, (converted_size, converted_size))\n",
    "\n",
    "                    cv2.imwrite(\"data/gray_images/gray_\" +str(count) +\".jpg\", gray_img)\n",
    "                    cv2.imwrite(\"data/color_images/color_\" +str(count) +\".jpg\", image)\n",
    "                    count += 1\n",
    "                    file_from_each_seg += 1\n",
    "                else:\n",
    "                    print('Coorupt image: ' ,filename)\n",
    "    except Exception as e: \n",
    "        print(e)\n",
    "        print('Exception occured in  file: ' ,filename)\n",
    "    return count"
   ]
  },
  {
   "cell_type": "code",
   "execution_count": 17,
   "metadata": {},
   "outputs": [],
   "source": [
    "def load_image_in_arrays(count): \n",
    "    color_images = []\n",
    "\n",
    "    for i in range(1, count):\n",
    "        img = cv2.imread(\"data/color_images/color_\" +str(i) +\".jpg\" )\n",
    "        color_images.append(np.array(img))\n",
    "\n",
    "    color_images_arr = np.asarray(color_images)\n",
    "    print(color_images_arr.shape)\n",
    "\n",
    "    gray_images = []\n",
    "\n",
    "    for i in range(1,  count):\n",
    "        img = cv2.imread(\"data/gray_images/gray_\" +str(i) +\".jpg\", 0)    \n",
    "        gray_images.append(np.array(img))\n",
    "\n",
    "    gray_images_arr = np.asarray(gray_images)\n",
    "    gray_images_arr = gray_images_arr[:,:,:,np.newaxis]\n",
    "    print(gray_images_arr.shape)\n",
    "    \n",
    "    #Normalize the images\n",
    "    gray_images_arr = gray_images_arr.astype('float32') / 255\n",
    "    color_images_arr = color_images_arr.astype('float32') / 255\n",
    "    \n",
    "    return gray_images_arr,color_images_arr"
   ]
  },
  {
   "cell_type": "code",
   "execution_count": 44,
   "metadata": {},
   "outputs": [],
   "source": [
    "def create_directory():\n",
    "    if os.path.exists('data'):\n",
    "        cleanup()\n",
    "    os.mkdir('data')\n",
    "    os.mkdir('data/gray_images')\n",
    "    os.mkdir('data/color_images')\n",
    "    os.mkdir('data/output')        "
   ]
  },
  {
   "cell_type": "code",
   "execution_count": 41,
   "metadata": {},
   "outputs": [],
   "source": [
    "def cleanup():\n",
    "    shutil.rmtree('data')"
   ]
  },
  {
   "cell_type": "markdown",
   "metadata": {},
   "source": [
    "# Train Test Split"
   ]
  },
  {
   "cell_type": "code",
   "execution_count": 19,
   "metadata": {},
   "outputs": [],
   "source": [
    "def returnTestTrainSplitData(X, Y):\n",
    "    X_train, X_test, y_train, y_test = train_test_split(X, Y, test_size=0.30, shuffle= True)\n",
    "    print(' X_train shape %s . Y_train shape %s ' %(X_train.shape,y_train.shape))\n",
    "    print(' X_test shape %s . Y_test shape %s ' %(X_test.shape,y_test.shape))\n",
    "    return X_train, X_test,y_train,y_test"
   ]
  },
  {
   "cell_type": "markdown",
   "metadata": {},
   "source": [
    "# Model related functions"
   ]
  },
  {
   "cell_type": "code",
   "execution_count": 108,
   "metadata": {},
   "outputs": [],
   "source": [
    "def build_model(input_dim,loss,optimizer):\n",
    "    \n",
    "    input_layer = Input(shape=input_dim)\n",
    "\n",
    "    # encoder\n",
    "    h = Conv2D(128, (2,2), activation='relu', padding='same')(input_layer)\n",
    "    h = MaxPooling2D((2, 2), padding='same')(h)\n",
    "    \n",
    "    # decoder\n",
    "    h = UpSampling2D((2, 2))(h)\n",
    "    h = Conv2D(32, (2,2), activation='relu', padding='same')(h)\n",
    "    h = Conv2D(1, (2,2), activation=None, padding='same')(h)\n",
    "  \n",
    "    model = Model(input_layer, h)\n",
    "    \n",
    "    model.compile(optimizer=optimizer,loss=loss)\n",
    "    model.summary()\n",
    "    \n",
    "    return model"
   ]
  },
  {
   "cell_type": "code",
   "execution_count": 63,
   "metadata": {},
   "outputs": [],
   "source": [
    "def train_model(model,batch_size,epochs,X_train,y_train):\n",
    "    history=model.fit(\n",
    "        X_train, \n",
    "        y_train,\n",
    "        batch_size=batch_size,\n",
    "        epochs=epochs,\n",
    "        verbose=1\n",
    "    )\n",
    "    return history"
   ]
  },
  {
   "cell_type": "markdown",
   "metadata": {},
   "source": [
    "# Plot  loss"
   ]
  },
  {
   "cell_type": "code",
   "execution_count": 64,
   "metadata": {},
   "outputs": [],
   "source": [
    "def plotTrainValLoss(history,epochs):\n",
    "    fig,ax = plt.subplots(1,1)\n",
    "    ax.set_xlabel('epoch') ; ax.set_ylabel('mean_squared_error  Loss')\n",
    "\n",
    "    # list of epoch numbers\n",
    "    x = list(range(1,epochs+1))\n",
    "\n",
    "    ty = history.history['loss']\n",
    "    ax.plot(x, ty, 'r', label=\"Train Loss\")\n",
    "    plt.legend()\n",
    "    plt.grid()\n",
    "    plt.show()\n",
    "    fig.canvas.draw()"
   ]
  },
  {
   "cell_type": "markdown",
   "metadata": {},
   "source": [
    "# Prediction done after training"
   ]
  },
  {
   "cell_type": "code",
   "execution_count": 65,
   "metadata": {},
   "outputs": [],
   "source": [
    "def predict(X_test,y_test,model):\n",
    "    count = 1\n",
    "    generated_image = model.predict(X_test)\n",
    "    generated_image = generated_image * 255.0\n",
    "    generated_image = np.floor(generated_image)\n",
    "    \n",
    "    y_test = y_test * 255.0\n",
    "    y_test = np.floor(y_test)\n",
    "    \n",
    "    for image in generated_image:\n",
    "        cv2.imwrite(\"data/output/generated_\" +str(count) +\".jpg\", image)\n",
    "        count += 1\n",
    "    count = 1\n",
    "    for image in y_test:\n",
    "        cv2.imwrite(\"data/output/test_\" +str(count) +\".jpg\", image)\n",
    "        count += 1"
   ]
  },
  {
   "cell_type": "markdown",
   "metadata": {},
   "source": [
    "# Driver function"
   ]
  },
  {
   "cell_type": "code",
   "execution_count": 110,
   "metadata": {},
   "outputs": [],
   "source": [
    "def data_creation(base_dir,converted_size):\n",
    "    \n",
    "    #Step 1: Create data directory\n",
    "    create_directory()\n",
    "    \n",
    "    #Step 2: From the large dataset get 50 images from each category and save it to a fresh folder\n",
    "    count = save_images(base_dir,converted_size)  \n",
    "    \n",
    "    #Step 3: Read the small dataset into arrays\n",
    "    gray_images_arr,color_images_arr = load_image_in_arrays(count)\n",
    "    \n",
    "    #Step 4: Get test train split\n",
    "    X_train, X_test,y_train,y_test = returnTestTrainSplitData(color_images_arr, gray_images_arr)\n",
    "    return X_train, X_test,y_train,y_test"
   ]
  },
  {
   "cell_type": "code",
   "execution_count": 105,
   "metadata": {},
   "outputs": [],
   "source": [
    "def model(X_train, X_test,y_train, y_test, epochs=10,batch_size = 32,loss = 'mean_squared_error',optimizer = 'adam'):\n",
    "    batch_size = 32\n",
    "    input_dim = (128,128,3)\n",
    "    \n",
    "    #Step 1: Get the model\n",
    "    model = build_model(input_dim,loss,optimizer)\n",
    "    \n",
    "    #Step 2: Train the model\n",
    "    history = train_model(model,batch_size,epochs,X_train,y_train)\n",
    "    \n",
    "    #print(history)\n",
    "    #Step 3: Plot loss\n",
    "    plotTrainValLoss(history,epochs)\n",
    "    \n",
    "    #Step 4: Make predictions and save \n",
    "    predict(X_test,y_test,model) "
   ]
  },
  {
   "cell_type": "code",
   "execution_count": 111,
   "metadata": {},
   "outputs": [
    {
     "name": "stdout",
     "output_type": "stream",
     "text": [
      "Coorupt image:  indoorCVPR_09/computerroom\\aula_informatica_gif.jpg\n",
      "Coorupt image:  indoorCVPR_09/fastfood_restaurant\\connies_gif.jpg\n",
      "Coorupt image:  indoorCVPR_09/gameroom\\gameroom_gif.jpg\n",
      "(1400, 128, 128, 3)\n",
      "(1400, 128, 128, 1)\n",
      " X_train shape (980, 128, 128, 3) . Y_train shape (980, 128, 128, 1) \n",
      " X_test shape (420, 128, 128, 3) . Y_test shape (420, 128, 128, 1) \n"
     ]
    }
   ],
   "source": [
    "X_train, X_test,y_train,y_test = data_creation(base_dir,converted_size)"
   ]
  },
  {
   "cell_type": "code",
   "execution_count": 112,
   "metadata": {},
   "outputs": [
    {
     "name": "stdout",
     "output_type": "stream",
     "text": [
      "_________________________________________________________________\n",
      "Layer (type)                 Output Shape              Param #   \n",
      "=================================================================\n",
      "input_11 (InputLayer)        (None, 128, 128, 3)       0         \n",
      "_________________________________________________________________\n",
      "conv2d_32 (Conv2D)           (None, 128, 128, 128)     1664      \n",
      "_________________________________________________________________\n",
      "max_pooling2d_16 (MaxPooling (None, 64, 64, 128)       0         \n",
      "_________________________________________________________________\n",
      "up_sampling2d_6 (UpSampling2 (None, 128, 128, 128)     0         \n",
      "_________________________________________________________________\n",
      "conv2d_33 (Conv2D)           (None, 128, 128, 32)      16416     \n",
      "_________________________________________________________________\n",
      "conv2d_34 (Conv2D)           (None, 128, 128, 1)       129       \n",
      "=================================================================\n",
      "Total params: 18,209\n",
      "Trainable params: 18,209\n",
      "Non-trainable params: 0\n",
      "_________________________________________________________________\n",
      "Epoch 1/5\n",
      "980/980 [==============================] - 158s 161ms/step - loss: 0.0241\n",
      "Epoch 2/5\n",
      "980/980 [==============================] - 156s 159ms/step - loss: 0.0079\n",
      "Epoch 3/5\n",
      "980/980 [==============================] - 155s 159ms/step - loss: 0.0059\n",
      "Epoch 4/5\n",
      "980/980 [==============================] - 163s 167ms/step - loss: 0.0053\n",
      "Epoch 5/5\n",
      "980/980 [==============================] - 156s 159ms/step - loss: 0.0049\n"
     ]
    },
    {
     "data": {
      "image/png": "[encoded data removed]",
      "text/plain": [
       "<Figure size 432x288 with 1 Axes>"
      ]
     },
     "metadata": {},
     "output_type": "display_data"
    }
   ],
   "source": [
    "model(X_train, X_test,y_train,y_test,epochs=5)"
   ]
  }
 ],
 "metadata": {
  "kernelspec": {
   "display_name": "Python 3",
   "language": "python",
   "name": "python3"
  },
  "language_info": {
   "codemirror_mode": {
    "name": "ipython",
    "version": 3
   },
   "file_extension": ".py",
   "mimetype": "text/x-python",
   "name": "python",
   "nbconvert_exporter": "python",
   "pygments_lexer": "ipython3",
   "version": "3.6.5"
  }
 },
 "nbformat": 4,
 "nbformat_minor": 2
}
