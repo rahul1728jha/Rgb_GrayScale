{
 "cells": [
  {
   "cell_type": "markdown",
   "metadata": {},
   "source": [
    "# Problem statement :  Develop a neural net to convert RGB image into a grayscale image.\n"
   ]
  },
  {
   "cell_type": "markdown",
   "metadata": {},
   "source": [
    "<h3> Data source:\n",
    "\n",
    "\n",
    "           http://web.mit.edu/torralba/www/indoor.html?source=post_page---------------------------\n",
    "\n",
    "</h3>\n",
    " \n",
    "<p> This is a 2.4 GB data set. Choose this dataset as it has wide variety of images so the neural network will generalize better to different types of images </p>"
   ]
  },
  {
   "cell_type": "markdown",
   "metadata": {},
   "source": [
    "# Steps followed :\n",
    "\n",
    "<h3> Data preparation : </h3>\n",
    "    1. There are 67 different types of objects. Took 20 images from each set\n",
    "    2. Created 2 different directories, 1 for colored and the other for gray scale. Gray scale image was produced from opencv.\n",
    "    3. Resized the image to 128 * 128\n",
    "    4. Normalized the image by dividing by 255 as the max value for each pixel is 255\n",
    "    5. Test train split of 70:30\n",
    "    \n",
    "<h3> Neural Network Model </h3>\n",
    "    1. Used a simple convolutional autoencoder.\n",
    "    2. Activation function used : Relu. No activation function for the last layer.\n",
    "    3. Encoder: Conv layer followed by a max pool layer. Decoder: UpSampling layer followed by conv layer.\n",
    "    4. Optimizer: Adam, as it is the fastest.\n",
    "    5. Loss: Mean squared error\n",
    "    6. Epochs : 10\n",
    "    7. Batch size : 32"
   ]
  },
  {
   "cell_type": "markdown",
   "metadata": {},
   "source": [
    "# Some of the sample images. Left is generated through the network and the right one is generated through open cv"
   ]
  },
  {
   "cell_type": "code",
   "execution_count": 1,
   "metadata": {
    "scrolled": false
   },
   "outputs": [
    {
     "data": {
      "text/html": [
       "<table><tr><td><img src='data/output/generated_1.jpg'></td><td><img src='data/output/test_1.jpg'></td></tr></table>"
      ],
      "text/plain": [
       "<IPython.core.display.HTML object>"
      ]
     },
     "metadata": {},
     "output_type": "display_data"
    },
    {
     "data": {
      "text/html": [
       "<table><tr><td><img src='data/output/generated_2.jpg'></td><td><img src='data/output/test_2.jpg'></td></tr></table>"
      ],
      "text/plain": [
       "<IPython.core.display.HTML object>"
      ]
     },
     "metadata": {},
     "output_type": "display_data"
    },
    {
     "data": {
      "text/html": [
       "<table><tr><td><img src='data/output/generated_3.jpg'></td><td><img src='data/output/test_3.jpg'></td></tr></table>"
      ],
      "text/plain": [
       "<IPython.core.display.HTML object>"
      ]
     },
     "metadata": {},
     "output_type": "display_data"
    },
    {
     "data": {
      "text/html": [
       "<table><tr><td><img src='data/output/generated_4.jpg'></td><td><img src='data/output/test_4.jpg'></td></tr></table>"
      ],
      "text/plain": [
       "<IPython.core.display.HTML object>"
      ]
     },
     "metadata": {},
     "output_type": "display_data"
    },
    {
     "data": {
      "text/html": [
       "<table><tr><td><img src='data/output/generated_5.jpg'></td><td><img src='data/output/test_5.jpg'></td></tr></table>"
      ],
      "text/plain": [
       "<IPython.core.display.HTML object>"
      ]
     },
     "metadata": {},
     "output_type": "display_data"
    },
    {
     "data": {
      "text/html": [
       "<table><tr><td><img src='data/output/generated_6.jpg'></td><td><img src='data/output/test_6.jpg'></td></tr></table>"
      ],
      "text/plain": [
       "<IPython.core.display.HTML object>"
      ]
     },
     "metadata": {},
     "output_type": "display_data"
    }
   ],
   "source": [
    "from IPython.display import HTML, display\n",
    "display(HTML(\"<table><tr><td><img src='data/output/generated_1.jpg'></td><td><img src='data/output/test_1.jpg'></td></tr></table>\"))\n",
    "display(HTML(\"<table><tr><td><img src='data/output/generated_2.jpg'></td><td><img src='data/output/test_2.jpg'></td></tr></table>\"))\n",
    "display(HTML(\"<table><tr><td><img src='data/output/generated_3.jpg'></td><td><img src='data/output/test_3.jpg'></td></tr></table>\"))\n",
    "display(HTML(\"<table><tr><td><img src='data/output/generated_4.jpg'></td><td><img src='data/output/test_4.jpg'></td></tr></table>\"))\n",
    "display(HTML(\"<table><tr><td><img src='data/output/generated_5.jpg'></td><td><img src='data/output/test_5.jpg'></td></tr></table>\"))\n",
    "display(HTML(\"<table><tr><td><img src='data/output/generated_6.jpg'></td><td><img src='data/output/test_6.jpg'></td></tr></table>\"))\n"
   ]
  },
  {
   "cell_type": "markdown",
   "metadata": {},
   "source": [
    "# Steps to run"
   ]
  },
  {
   "cell_type": "markdown",
   "metadata": {},
   "source": [
    "    1. Download the image data from the mentioned link, or any other dataset can be used.\n",
    "    2. Place the dataset and the Grayscale_Converter.ipynb in the same directory.\n",
    "    3. Create directories : data/gray_images, data/color_images, data/output"
   ]
  }
 ],
 "metadata": {
  "kernelspec": {
   "display_name": "Python 3",
   "language": "python",
   "name": "python3"
  },
  "language_info": {
   "codemirror_mode": {
    "name": "ipython",
    "version": 3
   },
   "file_extension": ".py",
   "mimetype": "text/x-python",
   "name": "python",
   "nbconvert_exporter": "python",
   "pygments_lexer": "ipython3",
   "version": "3.6.5"
  }
 },
 "nbformat": 4,
 "nbformat_minor": 2
}
